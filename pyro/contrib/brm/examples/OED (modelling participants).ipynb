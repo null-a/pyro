{
 "cells": [
  {
   "cell_type": "code",
   "execution_count": 1,
   "metadata": {},
   "outputs": [
    {
     "name": "stdout",
     "output_type": "stream",
     "text": [
      "Populating the interactive namespace from numpy and matplotlib\n"
     ]
    }
   ],
   "source": [
    "%pylab inline\n",
    "\n",
    "from pyro.contrib.brm.design import RealValued, Categorical\n",
    "from pyro.contrib.brm.family import Normal, HalfNormal\n",
    "from pyro.contrib.brm.model import model_repr\n",
    "from pyro.contrib.brm.fit import marginals\n",
    "from pyro.contrib.brm.priors import Prior\n",
    "\n",
    "from pyro.contrib.brm.oed import SequentialOED, design_space_cols, design_space"
   ]
  },
  {
   "cell_type": "markdown",
   "metadata": {},
   "source": [
    "### How do we handle participants with oed + brmp?\n",
    "\n",
    "Assuming we know ahead of time we have a fixed set of three participants to which we might show one of two stimuli, then we might want to do oed with the following model:"
   ]
  },
  {
   "cell_type": "code",
   "execution_count": 2,
   "metadata": {},
   "outputs": [],
   "source": [
    "oed = SequentialOED(\n",
    "    'y ~ stimulus + (stimulus | participant)',\n",
    "    cols=[\n",
    "        RealValued('y'),\n",
    "        Categorical('stimulus', ['a','b']),\n",
    "        Categorical('participant', ['x','y','z'])\n",
    "    ],\n",
    "    priors=[\n",
    "    ]\n",
    ")"
   ]
  },
  {
   "cell_type": "markdown",
   "metadata": {},
   "source": [
    "For reference, here's some information about the model this defines:"
   ]
  },
  {
   "cell_type": "code",
   "execution_count": 3,
   "metadata": {},
   "outputs": [
    {
     "name": "stdout",
     "output_type": "stream",
     "text": [
      "========================================\n",
      "Population\n",
      "----------------------------------------\n",
      "Coef Priors:\n",
      "stimulus[a]     | Cauchy(loc=0.0, scale=1.0)\n",
      "stimulus[b]     | Cauchy(loc=0.0, scale=1.0)\n",
      "========================================\n",
      "Group 0\n",
      "----------------------------------------\n",
      "Factors: participant\n",
      "Num Levels: 3\n",
      "Corr. Prior: LKJ(eta=1.0)\n",
      "S.D. Priors:\n",
      "stimulus[a]     | HalfCauchy(scale=3.0)\n",
      "stimulus[b]     | HalfCauchy(scale=3.0)\n",
      "========================================\n",
      "Response\n",
      "----------------------------------------\n",
      "Family: Normal()\n",
      "Link:\n",
      "  Parameter: mu\n",
      "  Function:  identity\n",
      "Priors:\n",
      "sigma           | HalfCauchy(scale=3.0)\n",
      "========================================\n"
     ]
    }
   ],
   "source": [
    "print(model_repr(oed.model_desc))"
   ]
  },
  {
   "cell_type": "markdown",
   "metadata": {},
   "source": [
    "By default, the system (currently) takes as the design space the full Cartesian product of all factors/columns in the model:"
   ]
  },
  {
   "cell_type": "code",
   "execution_count": 4,
   "metadata": {},
   "outputs": [
    {
     "data": {
      "text/plain": [
       "[('a', 'x'), ('a', 'y'), ('a', 'z'), ('b', 'x'), ('b', 'y'), ('b', 'z')]"
      ]
     },
     "execution_count": 4,
     "metadata": {},
     "output_type": "execute_result"
    }
   ],
   "source": [
    "oed.design_space()"
   ]
  },
  {
   "cell_type": "markdown",
   "metadata": {},
   "source": [
    "<i>Aside: similarly, if the model were to included an interaction, e.g. `y ~ participant:stimulus`, then the model would be set up assuming that all combinations of these factors can occur. Something different happens in the typical use of brmp, where a concrete dataset is given rather than a description of the factors/columns. In that case, the model is setup to handle (i.e. has coefs. for) only those combinations present in the data.</i>"
   ]
  },
  {
   "cell_type": "markdown",
   "metadata": {},
   "source": [
    "... and asking for the next trial searches over this entire space:"
   ]
  },
  {
   "cell_type": "code",
   "execution_count": 5,
   "metadata": {},
   "outputs": [
    {
     "data": {
      "text/plain": [
       "(('b', 'z'),\n",
       " 5,\n",
       " [(('a', 'x'), -1.1991877555847168),\n",
       "  (('a', 'y'), -1.1910467147827148),\n",
       "  (('a', 'z'), -1.1890052556991577),\n",
       "  (('b', 'x'), -1.1875406503677368),\n",
       "  (('b', 'y'), -1.1943681240081787),\n",
       "  (('b', 'z'), -1.1701955795288086)])"
      ]
     },
     "execution_count": 5,
     "metadata": {},
     "output_type": "execute_result"
    }
   ],
   "source": [
    "oed.next_trial()[0:3]"
   ]
  },
  {
   "cell_type": "markdown",
   "metadata": {},
   "source": [
    "This is OK, but it won't always be what we want. For example, we might want to know which stimulus we ought present to a particular participant. What might the interface for that be? One possibility is to have `next_trial` take arguments that specify subsets of levels (for zero or more columns) from which the product is built, thereby restricting the search. For example, to restrict the search to only those designs involving participant `x` we would use:"
   ]
  },
  {
   "cell_type": "code",
   "execution_count": 6,
   "metadata": {},
   "outputs": [
    {
     "data": {
      "text/plain": [
       "(('b', 'x'),\n",
       " 1,\n",
       " [(('a', 'x'), -1.1555356979370117), (('b', 'x'), -1.147426724433899)])"
      ]
     },
     "execution_count": 6,
     "metadata": {},
     "output_type": "execute_result"
    }
   ],
   "source": [
    "oed.next_trial(participant=['x'])[0:3]"
   ]
  },
  {
   "cell_type": "markdown",
   "metadata": {},
   "source": [
    "### Questions\n",
    "\n",
    "* Is this a reasonable approach?\n",
    "* Does it handle the cases we're interested in? If not, what else is required?\n",
    "* What if we don't know the number of participants ahead of time? In general, changes the metadata (such as adding extra levels to a categorical column) will change the model, which might be a messy thing to do during OED. e.g. Whether a particular `priors` specification is valid depends on the metadata. OTOH, this particular move (adding a level to a *grouping* column) has a limited effect on the model, and might be something that could be accomodated on the fly."
   ]
  }
 ],
 "metadata": {
  "kernelspec": {
   "display_name": "Python 3",
   "language": "python",
   "name": "python3"
  },
  "language_info": {
   "codemirror_mode": {
    "name": "ipython",
    "version": 3
   },
   "file_extension": ".py",
   "mimetype": "text/x-python",
   "name": "python",
   "nbconvert_exporter": "python",
   "pygments_lexer": "ipython3",
   "version": "3.7.3"
  }
 },
 "nbformat": 4,
 "nbformat_minor": 2
}
