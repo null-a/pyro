{
 "cells": [
  {
   "cell_type": "code",
   "execution_count": 1,
   "metadata": {},
   "outputs": [
    {
     "name": "stdout",
     "output_type": "stream",
     "text": [
      "Populating the interactive namespace from numpy and matplotlib\n"
     ]
    }
   ],
   "source": [
    "%pylab inline\n",
    "import pandas as pd\n",
    "from pyro.contrib.brm import defm\n",
    "from pyro.contrib.brm.priors import PriorEdit, prior\n",
    "from pyro.contrib.brm.fit import marginals, print_model, fitted, summary\n",
    "from pyro.contrib.brm.family import getfamily, apply\n",
    "from pyro.contrib.brm.numpyro_backend import backend as numpyro"
   ]
  },
  {
   "cell_type": "markdown",
   "metadata": {},
   "source": [
    "In this notebook we use brmp to model the Effron and Morris baseball dataset. The specific model used is taken from this [blog post](https://solomonkurz.netlify.com/post/stein-s-paradox-and-what-partial-pooling-can-do-for-you/). That post uses brms to define and fit the models it describes, and these are straight-forward to recreate in brmp. One of the two brms models described in the post is recreated below.\n",
    "\n",
    "Similar models are implemented directly in Pyro [here](https://github.com/pyro-ppl/pyro/blob/dev/examples/baseball.py)."
   ]
  },
  {
   "cell_type": "code",
   "execution_count": 2,
   "metadata": {},
   "outputs": [
    {
     "data": {
      "text/html": [
       "<div>\n",
       "<style scoped>\n",
       "    .dataframe tbody tr th:only-of-type {\n",
       "        vertical-align: middle;\n",
       "    }\n",
       "\n",
       "    .dataframe tbody tr th {\n",
       "        vertical-align: top;\n",
       "    }\n",
       "\n",
       "    .dataframe thead th {\n",
       "        text-align: right;\n",
       "    }\n",
       "</style>\n",
       "<table border=\"1\" class=\"dataframe\">\n",
       "  <thead>\n",
       "    <tr style=\"text-align: right;\">\n",
       "      <th></th>\n",
       "      <th>Player</th>\n",
       "      <th>At-Bats</th>\n",
       "      <th>Hits</th>\n",
       "      <th>BattingAverage</th>\n",
       "      <th>RemainingAverage</th>\n",
       "    </tr>\n",
       "  </thead>\n",
       "  <tbody>\n",
       "    <tr>\n",
       "      <th>0</th>\n",
       "      <td>Clemente</td>\n",
       "      <td>45</td>\n",
       "      <td>18</td>\n",
       "      <td>0.400</td>\n",
       "      <td>0.3460</td>\n",
       "    </tr>\n",
       "    <tr>\n",
       "      <th>1</th>\n",
       "      <td>Robinson</td>\n",
       "      <td>45</td>\n",
       "      <td>17</td>\n",
       "      <td>0.378</td>\n",
       "      <td>0.2981</td>\n",
       "    </tr>\n",
       "    <tr>\n",
       "      <th>2</th>\n",
       "      <td>Howard</td>\n",
       "      <td>45</td>\n",
       "      <td>16</td>\n",
       "      <td>0.356</td>\n",
       "      <td>0.2764</td>\n",
       "    </tr>\n",
       "    <tr>\n",
       "      <th>3</th>\n",
       "      <td>Johnstone</td>\n",
       "      <td>45</td>\n",
       "      <td>15</td>\n",
       "      <td>0.333</td>\n",
       "      <td>0.2218</td>\n",
       "    </tr>\n",
       "    <tr>\n",
       "      <th>4</th>\n",
       "      <td>Berry</td>\n",
       "      <td>45</td>\n",
       "      <td>14</td>\n",
       "      <td>0.311</td>\n",
       "      <td>0.2727</td>\n",
       "    </tr>\n",
       "  </tbody>\n",
       "</table>\n",
       "</div>"
      ],
      "text/plain": [
       "      Player  At-Bats  Hits  BattingAverage  RemainingAverage\n",
       "0   Clemente       45    18           0.400            0.3460\n",
       "1   Robinson       45    17           0.378            0.2981\n",
       "2     Howard       45    16           0.356            0.2764\n",
       "3  Johnstone       45    15           0.333            0.2218\n",
       "4      Berry       45    14           0.311            0.2727"
      ]
     },
     "execution_count": 2,
     "metadata": {},
     "output_type": "execute_result"
    }
   ],
   "source": [
    "# Load the data.\n",
    "# (Note that this dataset disagrees with the blog post on the row for player Williams.)\n",
    "df = pd.read_csv('EfronMorrisBB.txt', sep='\\t')\n",
    "df['LastName'] = df['LastName'].astype('category')\n",
    "df.rename(columns={'LastName': 'Player'}, inplace=True)\n",
    "df.drop(['FirstName', 'RemainingAt-Bats', 'SeasonAt-Bats', 'SeasonHits', 'SeasonAverage'], axis=1, inplace=True)\n",
    "df.head()"
   ]
  },
  {
   "cell_type": "markdown",
   "metadata": {},
   "source": [
    "The model uses the binomial family as the response distribution, which requires us to give a value for its number of trials parameter. In brms this is achieved by writing something like `Hits | trials(...)` on the left hand side of the formula. brmp doesn't support this, but we can achieve the same thing by giving the number of trails when we specify the reponse distribution for the the model. (This only works for the simple case where the number of trials is the same for every row of the data frame.)"
   ]
  },
  {
   "cell_type": "code",
   "execution_count": 3,
   "metadata": {},
   "outputs": [
    {
     "data": {
      "text/plain": [
       "========================================\n",
       "Population\n",
       "----------------------------------------\n",
       "Coef Priors:\n",
       "intercept       | Normal(mu=0.0, sigma=1.5)\n",
       "========================================\n",
       "Group 0\n",
       "----------------------------------------\n",
       "Factor: Player\n",
       "Num Levels: 18\n",
       "Corr. Prior: None\n",
       "S.D. Priors:\n",
       "intercept       | HalfNormal(sigma=1.5)\n",
       "========================================\n",
       "Response\n",
       "----------------------------------------\n",
       "Family: Binomial(num_trials=45)\n",
       "Link:\n",
       "  Parameter: probs\n",
       "  Function:  logit\n",
       "Priors:\n",
       "========================================"
      ]
     },
     "execution_count": 3,
     "metadata": {},
     "output_type": "execute_result"
    }
   ],
   "source": [
    "model = defm(\n",
    "    'Hits ~ 1 + (1 | Player)',\n",
    "    df,\n",
    "    # Response family:\n",
    "    apply(getfamily('Binomial'), num_trials=45),\n",
    "    # Priors:\n",
    "    [\n",
    "        PriorEdit(('b', 'intercept'), prior('Normal', [0., 1.5])),\n",
    "        PriorEdit(('sd',),            prior('HalfNormal', [1.5]))\n",
    "    ])\n",
    "model"
   ]
  },
  {
   "cell_type": "code",
   "execution_count": 4,
   "metadata": {},
   "outputs": [
    {
     "name": "stderr",
     "output_type": "stream",
     "text": [
      "warmup: 100%|██████████| 100/100 [00:22<00:00,  4.48it/s, 7 steps of size 4.15e-01. acc. prob=0.79]\n",
      "sample: 100%|██████████| 1000/1000 [00:01<00:00, 703.91it/s, 7 steps of size 4.15e-01. acc. prob=0.80]\n"
     ]
    }
   ],
   "source": [
    "fit = model.fit(backend=numpyro, seed=0, iter=1000, warmup=100)"
   ]
  },
  {
   "cell_type": "markdown",
   "metadata": {},
   "source": [
    "The following model summary matches the blog post closely. (Compare with the table that appears immediately after the `fit_z$fit` command in the post.)"
   ]
  },
  {
   "cell_type": "code",
   "execution_count": 5,
   "metadata": {},
   "outputs": [
    {
     "data": {
      "text/plain": [
       "                                mean    sd  2.5%   25%   50%   75% 97.5%\n",
       "                   b_intercept -1.03  0.09 -1.20 -1.08 -1.02 -0.97 -0.85\n",
       "          sd_Player__intercept  0.16  0.11  0.01  0.07  0.14  0.23  0.42\n",
       "  r_Player[Alvarado,intercept] -0.00  0.15 -0.33 -0.07 -0.00  0.06  0.30\n",
       "     r_Player[Alvis,intercept] -0.11  0.19 -0.60 -0.20 -0.06  0.01  0.14\n",
       "     r_Player[Berry,intercept]  0.04  0.15 -0.24 -0.04  0.02  0.11  0.39\n",
       "r_Player[Campaneris,intercept] -0.06  0.16 -0.47 -0.14 -0.03  0.02  0.22\n",
       "  r_Player[Clemente,intercept]  0.13  0.19 -0.13  0.00  0.07  0.23  0.58\n",
       "    r_Player[Howard,intercept]  0.08  0.17 -0.20 -0.01  0.04  0.16  0.52\n",
       " r_Player[Johnstone,intercept]  0.06  0.17 -0.23 -0.02  0.02  0.13  0.50\n",
       " r_Player[Kessinger,intercept]  0.03  0.16 -0.29 -0.04  0.01  0.10  0.38\n",
       "    r_Player[Munson,intercept] -0.09  0.17 -0.49 -0.17 -0.04  0.01  0.18\n",
       "r_Player[Petrocelli,intercept] -0.03  0.16 -0.41 -0.12 -0.01  0.05  0.26\n",
       "  r_Player[Robinson,intercept]  0.11  0.18 -0.13  0.00  0.06  0.19  0.60\n",
       " r_Player[Rodriguez,intercept] -0.05  0.16 -0.45 -0.11 -0.02  0.03  0.24\n",
       "     r_Player[Santo,intercept] -0.02  0.15 -0.38 -0.08 -0.00  0.05  0.31\n",
       "     r_Player[Scott,intercept] -0.04  0.15 -0.40 -0.11 -0.02  0.04  0.26\n",
       "   r_Player[Spencer,intercept]  0.05  0.14 -0.21 -0.02  0.02  0.11  0.40\n",
       "   r_Player[Swaboda,intercept] -0.02  0.15 -0.38 -0.09 -0.01  0.05  0.30\n",
       "     r_Player[Unser,intercept] -0.04  0.16 -0.40 -0.10 -0.01  0.04  0.26\n",
       "  r_Player[Williams,intercept] -0.04  0.17 -0.45 -0.11 -0.01  0.04  0.23"
      ]
     },
     "execution_count": 5,
     "metadata": {},
     "output_type": "execute_result"
    }
   ],
   "source": [
    "marginals(fit)"
   ]
  },
  {
   "cell_type": "markdown",
   "metadata": {},
   "source": [
    "Here we recreate the plot of model predictions vs. the true remaining batting average. (Compare with the right-most plot in [this image](https://solomonkurz.netlify.com/post/2019-02-23-stein-s-paradox-and-what-partial-pooling-can-do-for-you_files/figure-html/unnamed-chunk-24-1.png).) This appears similar to the plot in the blog post. (Though note that we have different data for player Williams, as mentioned earlier.) This makes use of the `fitted` function which is analogous to the [`fitted`](https://rdrr.io/cran/brms/man/fitted.brmsfit.html) method in brms."
   ]
  },
  {
   "cell_type": "code",
   "execution_count": 6,
   "metadata": {},
   "outputs": [
    {
     "data": {
      "image/png": "[encoded data removed]",
      "text/plain": [
       "<Figure size 432x288 with 1 Axes>"
      ]
     },
     "metadata": {
      "needs_background": "light"
     },
     "output_type": "display_data"
    }
   ],
   "source": [
    "sampled_probs = fitted(fit, 'response')\n",
    "tups = sorted(zip(df['RemainingAverage'], df['Player'], sampled_probs.T))\n",
    "avg, labels, samples = zip(*tups)\n",
    "xlim((0.0, 0.55))\n",
    "boxplot(samples, vert=False, labels=labels, showfliers=False, whis=[2.5,97.5])\n",
    "scatter(avg, range(1, len(df)+1));\n",
    "axvline(numpy.array(avg).mean(), c='gray', lw=1);"
   ]
  },
  {
   "cell_type": "markdown",
   "metadata": {},
   "source": [
    "## Appendix"
   ]
  },
  {
   "cell_type": "code",
   "execution_count": 7,
   "metadata": {
    "scrolled": false
   },
   "outputs": [
    {
     "name": "stdout",
     "output_type": "stream",
     "text": [
      "def model(X, Z_0, J_0, y_obs=None):\n",
      "    assert type(X) == onp.ndarray\n",
      "    N = X.shape[0]\n",
      "    M = 1\n",
      "    assert X.shape == (N, M)\n",
      "    b_0 = sample(\"b_0\", dist.Normal(np.array(0.0).broadcast([1]), np.array(1.5).broadcast([1])))\n",
      "    b = np.hstack([b_0])\n",
      "    assert b.shape == (M,)\n",
      "    mu = np.matmul(X, b)\n",
      "    \n",
      "    # Group 0: factor=Player\n",
      "    M_0 = 1 # Number of coeffs\n",
      "    N_0 = 18 # Number of levels\n",
      "    assert type(Z_0) == onp.ndarray\n",
      "    assert Z_0.shape == (N, M_0) # N x 1\n",
      "    assert type(J_0) == onp.ndarray\n",
      "    assert J_0.shape == (N,)\n",
      "    sd_0_0 = sample(\"sd_0_0\", dist.HalfNormal(np.array(1.5).broadcast([1])))\n",
      "    sd_0 = np.hstack([sd_0_0])\n",
      "    assert sd_0.shape == (M_0,) # 1\n",
      "    z_0 = sample(\"z_0\", dist.Normal(np.array(0.0).broadcast([1, 18]), np.array(1.0).broadcast([1, 18])))\n",
      "    assert z_0.shape == (M_0, N_0) # 1 x 18\n",
      "    r_0 = (z_0 * sd_0.reshape((-1, 1))).T\n",
      "    assert r_0.shape == (N_0, M_0) # 18 x 1\n",
      "    r_0_1 = r_0[:, 0]\n",
      "    Z_0_1 = Z_0[:, 0]\n",
      "    mu = mu + r_0_1[J_0] * Z_0_1\n",
      "    y = sample(\"y\", dist.Binomial(np.array(45).broadcast([N]), 1. / (1. + np.exp(-mu))), obs=y_obs)\n",
      "    return {'mu': mu, 'b': b, 'sd_0': sd_0, 'r_0': r_0}\n"
     ]
    }
   ],
   "source": [
    "print(fit.model.code)"
   ]
  },
  {
   "cell_type": "code",
   "execution_count": null,
   "metadata": {},
   "outputs": [],
   "source": []
  }
 ],
 "metadata": {
  "kernelspec": {
   "display_name": "Python 3",
   "language": "python",
   "name": "python3"
  },
  "language_info": {
   "codemirror_mode": {
    "name": "ipython",
    "version": 3
   },
   "file_extension": ".py",
   "mimetype": "text/x-python",
   "name": "python",
   "nbconvert_exporter": "python",
   "pygments_lexer": "ipython3",
   "version": "3.7.3"
  }
 },
 "nbformat": 4,
 "nbformat_minor": 2
}
