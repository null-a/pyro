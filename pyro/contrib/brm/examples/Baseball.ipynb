{
 "cells": [
  {
   "cell_type": "code",
   "execution_count": 1,
   "metadata": {},
   "outputs": [
    {
     "name": "stdout",
     "output_type": "stream",
     "text": [
      "Populating the interactive namespace from numpy and matplotlib\n"
     ]
    }
   ],
   "source": [
    "%pylab inline\n",
    "import pandas as pd\n",
    "import torch\n",
    "from pyro.contrib.brm import brm\n",
    "from pyro.contrib.brm.priors import PriorEdit, prior\n",
    "from pyro.contrib.brm.fit import marginals, print_model, fitted, summary\n",
    "from pyro.contrib.brm.family import getfamily, Type, apply\n",
    "from pyro.contrib.brm.model import parameter_names"
   ]
  },
  {
   "cell_type": "code",
   "execution_count": 2,
   "metadata": {},
   "outputs": [],
   "source": [
    "df = pd.read_csv('EfronMorrisBB.txt', sep='\\t')\n",
    "df['LastName'] = df['LastName'].astype('category')\n",
    "del df['FirstName']"
   ]
  },
  {
   "cell_type": "code",
   "execution_count": 3,
   "metadata": {},
   "outputs": [
    {
     "data": {
      "text/html": [
       "<div>\n",
       "<style scoped>\n",
       "    .dataframe tbody tr th:only-of-type {\n",
       "        vertical-align: middle;\n",
       "    }\n",
       "\n",
       "    .dataframe tbody tr th {\n",
       "        vertical-align: top;\n",
       "    }\n",
       "\n",
       "    .dataframe thead th {\n",
       "        text-align: right;\n",
       "    }\n",
       "</style>\n",
       "<table border=\"1\" class=\"dataframe\">\n",
       "  <thead>\n",
       "    <tr style=\"text-align: right;\">\n",
       "      <th></th>\n",
       "      <th>LastName</th>\n",
       "      <th>At-Bats</th>\n",
       "      <th>Hits</th>\n",
       "      <th>BattingAverage</th>\n",
       "      <th>RemainingAt-Bats</th>\n",
       "      <th>RemainingAverage</th>\n",
       "      <th>SeasonAt-Bats</th>\n",
       "      <th>SeasonHits</th>\n",
       "      <th>SeasonAverage</th>\n",
       "    </tr>\n",
       "  </thead>\n",
       "  <tbody>\n",
       "    <tr>\n",
       "      <th>0</th>\n",
       "      <td>Clemente</td>\n",
       "      <td>45</td>\n",
       "      <td>18</td>\n",
       "      <td>0.400</td>\n",
       "      <td>367</td>\n",
       "      <td>0.3460</td>\n",
       "      <td>412</td>\n",
       "      <td>145</td>\n",
       "      <td>0.352</td>\n",
       "    </tr>\n",
       "    <tr>\n",
       "      <th>1</th>\n",
       "      <td>Robinson</td>\n",
       "      <td>45</td>\n",
       "      <td>17</td>\n",
       "      <td>0.378</td>\n",
       "      <td>426</td>\n",
       "      <td>0.2981</td>\n",
       "      <td>471</td>\n",
       "      <td>144</td>\n",
       "      <td>0.306</td>\n",
       "    </tr>\n",
       "    <tr>\n",
       "      <th>2</th>\n",
       "      <td>Howard</td>\n",
       "      <td>45</td>\n",
       "      <td>16</td>\n",
       "      <td>0.356</td>\n",
       "      <td>521</td>\n",
       "      <td>0.2764</td>\n",
       "      <td>566</td>\n",
       "      <td>160</td>\n",
       "      <td>0.283</td>\n",
       "    </tr>\n",
       "    <tr>\n",
       "      <th>3</th>\n",
       "      <td>Johnstone</td>\n",
       "      <td>45</td>\n",
       "      <td>15</td>\n",
       "      <td>0.333</td>\n",
       "      <td>275</td>\n",
       "      <td>0.2218</td>\n",
       "      <td>320</td>\n",
       "      <td>76</td>\n",
       "      <td>0.238</td>\n",
       "    </tr>\n",
       "    <tr>\n",
       "      <th>4</th>\n",
       "      <td>Berry</td>\n",
       "      <td>45</td>\n",
       "      <td>14</td>\n",
       "      <td>0.311</td>\n",
       "      <td>418</td>\n",
       "      <td>0.2727</td>\n",
       "      <td>463</td>\n",
       "      <td>128</td>\n",
       "      <td>0.276</td>\n",
       "    </tr>\n",
       "  </tbody>\n",
       "</table>\n",
       "</div>"
      ],
      "text/plain": [
       "    LastName  At-Bats  Hits  BattingAverage  RemainingAt-Bats  \\\n",
       "0   Clemente       45    18           0.400               367   \n",
       "1   Robinson       45    17           0.378               426   \n",
       "2     Howard       45    16           0.356               521   \n",
       "3  Johnstone       45    15           0.333               275   \n",
       "4      Berry       45    14           0.311               418   \n",
       "\n",
       "   RemainingAverage  SeasonAt-Bats  SeasonHits  SeasonAverage  \n",
       "0            0.3460            412         145          0.352  \n",
       "1            0.2981            471         144          0.306  \n",
       "2            0.2764            566         160          0.283  \n",
       "3            0.2218            320          76          0.238  \n",
       "4            0.2727            463         128          0.276  "
      ]
     },
     "execution_count": 3,
     "metadata": {},
     "output_type": "execute_result"
    }
   ],
   "source": [
    "df.head()"
   ]
  },
  {
   "cell_type": "code",
   "execution_count": 4,
   "metadata": {},
   "outputs": [
    {
     "data": {
      "image/png": "[encoded data removed]",
      "text/plain": [
       "<Figure size 432x288 with 1 Axes>"
      ]
     },
     "metadata": {
      "needs_background": "light"
     },
     "output_type": "display_data"
    }
   ],
   "source": [
    "hist(df['Hits'], bins=range(6, 21));"
   ]
  },
  {
   "cell_type": "code",
   "execution_count": 5,
   "metadata": {},
   "outputs": [
    {
     "data": {
      "image/png": "[encoded data removed]",
      "text/plain": [
       "<Figure size 432x288 with 1 Axes>"
      ]
     },
     "metadata": {
      "needs_background": "light"
     },
     "output_type": "display_data"
    }
   ],
   "source": [
    "scatter(df['RemainingAverage'], np.random.rand(18)*0.002);"
   ]
  },
  {
   "cell_type": "markdown",
   "metadata": {},
   "source": [
    "To use the binomial family as the response distribution we need to give a value for its number of trials parameter. In brms this is achieved by writing something like `Hits | trials(...)` on the left hand side of the formula. brmp doesn't support this, but we can achieve the same thing by giving the number of trails when we specify the reponse distribution for the the model. (This only works for the simple case where the number of trials is the same for every row of the data frame.)"
   ]
  },
  {
   "cell_type": "code",
   "execution_count": 6,
   "metadata": {},
   "outputs": [
    {
     "name": "stderr",
     "output_type": "stream",
     "text": [
      "Sample: 100%|██████████| 1100/1100 [00:34<00:00, 31.92it/s, step size=6.01e-01, acc. rate=0.933]\n"
     ]
    }
   ],
   "source": [
    "fit = brm('Hits ~ 1 + (1 | LastName)', df, apply(getfamily('Binomial'), num_trials=45), [\n",
    "    PriorEdit(('b', 'intercept'), prior('Normal', [0., 1.5])),\n",
    "], iter=1000, warmup=100)"
   ]
  },
  {
   "cell_type": "code",
   "execution_count": 7,
   "metadata": {},
   "outputs": [
    {
     "data": {
      "text/plain": [
       "                                  mean    sd  2.5%   25%   50%   75% 97.5%\n",
       "                     b_intercept -1.02  0.09 -1.19 -1.09 -1.02 -0.96 -0.85\n",
       "          sd_LastName__intercept  0.17  0.11  0.01  0.08  0.16  0.24  0.42\n",
       "  r_LastName[Alvarado,intercept]  0.01  0.16 -0.35 -0.08  0.00  0.10  0.33\n",
       "     r_LastName[Alvis,intercept] -0.13  0.20 -0.61 -0.25 -0.08 -0.00  0.16\n",
       "     r_LastName[Berry,intercept]  0.05  0.16 -0.23 -0.04  0.02  0.13  0.41\n",
       "r_LastName[Campaneris,intercept] -0.06  0.17 -0.47 -0.15 -0.03  0.03  0.21\n",
       "  r_LastName[Clemente,intercept]  0.14  0.19 -0.13  0.00  0.09  0.24  0.63\n",
       "    r_LastName[Howard,intercept]  0.09  0.18 -0.19 -0.02  0.05  0.17  0.55\n",
       " r_LastName[Johnstone,intercept]  0.08  0.16 -0.20 -0.02  0.05  0.17  0.45\n",
       " r_LastName[Kessinger,intercept]  0.02  0.17 -0.32 -0.06  0.01  0.10  0.40\n",
       "    r_LastName[Munson,intercept] -0.09  0.19 -0.52 -0.18 -0.05  0.01  0.22\n",
       "r_LastName[Petrocelli,intercept] -0.05  0.15 -0.39 -0.13 -0.03  0.03  0.25\n",
       "  r_LastName[Robinson,intercept]  0.12  0.18 -0.17  0.00  0.07  0.23  0.55\n",
       " r_LastName[Rodriguez,intercept] -0.06  0.17 -0.47 -0.14 -0.03  0.03  0.24\n",
       "     r_LastName[Santo,intercept] -0.03  0.16 -0.41 -0.11 -0.01  0.05  0.30\n",
       "     r_LastName[Scott,intercept] -0.04  0.16 -0.42 -0.12 -0.02  0.04  0.29\n",
       "   r_LastName[Spencer,intercept]  0.05  0.15 -0.26 -0.03  0.03  0.13  0.42\n",
       "   r_LastName[Swaboda,intercept] -0.02  0.17 -0.42 -0.10 -0.00  0.06  0.31\n",
       "     r_LastName[Unser,intercept] -0.05  0.16 -0.42 -0.12 -0.03  0.03  0.23\n",
       "  r_LastName[Williams,intercept] -0.06  0.17 -0.49 -0.13 -0.03  0.03  0.23"
      ]
     },
     "execution_count": 7,
     "metadata": {},
     "output_type": "execute_result"
    }
   ],
   "source": [
    "marginals(fit)"
   ]
  },
  {
   "cell_type": "code",
   "execution_count": 8,
   "metadata": {},
   "outputs": [
    {
     "data": {
      "image/png": "[encoded data removed]",
      "text/plain": [
       "<Figure size 432x288 with 1 Axes>"
      ]
     },
     "metadata": {
      "needs_background": "light"
     },
     "output_type": "display_data"
    }
   ],
   "source": [
    "mu_samples = fitted(fit, 'response')\n",
    "tups = sorted(zip(df['RemainingAverage'], df['LastName'], mu_samples.T))\n",
    "avg, labels, samples = zip(*tups)\n",
    "xlim((0.0, 0.55))\n",
    "boxplot(samples, vert=False, labels=labels, showfliers=False, whis=[2.5,97.5])\n",
    "scatter(avg, range(1, len(df)+1));\n",
    "axvline(numpy.array(avg).mean(), c='gray', lw=1);"
   ]
  },
  {
   "cell_type": "code",
   "execution_count": 9,
   "metadata": {},
   "outputs": [
    {
     "data": {
      "text/plain": [
       "             mean    sd\n",
       "  Clemente  13.16  1.91\n",
       "  Robinson  13.00  1.90\n",
       "    Howard  12.80  1.70\n",
       " Johnstone  12.58  1.62\n",
       "     Berry  12.31  1.57\n",
       "   Spencer  12.21  1.49\n",
       " Kessinger  12.20  1.46\n",
       "  Alvarado  12.00  1.53\n",
       "     Santo  11.88  1.46\n",
       "   Swaboda  11.74  1.44\n",
       "Petrocelli  11.65  1.41\n",
       " Rodriguez  11.60  1.53\n",
       "     Scott  11.62  1.40\n",
       "     Unser  11.64  1.40\n",
       "  Williams  11.62  1.43\n",
       "Campaneris  11.47  1.52\n",
       "    Munson  11.29  1.48\n",
       "     Alvis  11.04  1.59"
      ]
     },
     "execution_count": 9,
     "metadata": {},
     "output_type": "execute_result"
    }
   ],
   "source": [
    "summary(fitted(fit), qs=[], row_labels=list(df['LastName']))"
   ]
  },
  {
   "cell_type": "code",
   "execution_count": null,
   "metadata": {},
   "outputs": [],
   "source": []
  },
  {
   "cell_type": "markdown",
   "metadata": {},
   "source": [
    "(This [blog post](https://solomonkurz.netlify.com/post/stein-s-paradox-and-what-partial-pooling-can-do-for-you/) shows the result of performing inference in a very similar model using brms.)"
   ]
  }
 ],
 "metadata": {
  "kernelspec": {
   "display_name": "Python 3",
   "language": "python",
   "name": "python3"
  },
  "language_info": {
   "codemirror_mode": {
    "name": "ipython",
    "version": 3
   },
   "file_extension": ".py",
   "mimetype": "text/x-python",
   "name": "python",
   "nbconvert_exporter": "python",
   "pygments_lexer": "ipython3",
   "version": "3.7.3"
  }
 },
 "nbformat": 4,
 "nbformat_minor": 2
}
