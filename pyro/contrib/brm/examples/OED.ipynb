{
 "cells": [
  {
   "cell_type": "code",
   "execution_count": 1,
   "metadata": {},
   "outputs": [
    {
     "name": "stdout",
     "output_type": "stream",
     "text": [
      "Populating the interactive namespace from numpy and matplotlib\n"
     ]
    }
   ],
   "source": [
    "%pylab inline\n",
    "import pandas as pd\n",
    "from pyro.contrib.brm import defm, makedesc, makedata\n",
    "from pyro.contrib.brm.design import metadata_from_df\n",
    "from pyro.contrib.brm.family import Normal\n",
    "from pyro.contrib.brm.formula import parse\n",
    "from pyro.contrib.brm.model import model_repr\n",
    "from pprint import pprint as pp"
   ]
  },
  {
   "cell_type": "markdown",
   "metadata": {},
   "source": [
    "## Defining the model\n",
    "\n",
    "As an example, how might we specify a model similar to that used for the turk experiment with brmp? Start by considering the data we'll eventually collect. It might look something like:"
   ]
  },
  {
   "cell_type": "code",
   "execution_count": 2,
   "metadata": {},
   "outputs": [
    {
     "data": {
      "text/html": [
       "<div>\n",
       "<style scoped>\n",
       "    .dataframe tbody tr th:only-of-type {\n",
       "        vertical-align: middle;\n",
       "    }\n",
       "\n",
       "    .dataframe tbody tr th {\n",
       "        vertical-align: top;\n",
       "    }\n",
       "\n",
       "    .dataframe thead th {\n",
       "        text-align: right;\n",
       "    }\n",
       "</style>\n",
       "<table border=\"1\" class=\"dataframe\">\n",
       "  <thead>\n",
       "    <tr style=\"text-align: right;\">\n",
       "      <th></th>\n",
       "      <th>y</th>\n",
       "      <th>design</th>\n",
       "      <th>participant</th>\n",
       "    </tr>\n",
       "  </thead>\n",
       "  <tbody>\n",
       "    <tr>\n",
       "      <th>0</th>\n",
       "      <td>0.5</td>\n",
       "      <td>D1</td>\n",
       "      <td>0</td>\n",
       "    </tr>\n",
       "    <tr>\n",
       "      <th>1</th>\n",
       "      <td>0.6</td>\n",
       "      <td>D2</td>\n",
       "      <td>1</td>\n",
       "    </tr>\n",
       "    <tr>\n",
       "      <th>2</th>\n",
       "      <td>0.4</td>\n",
       "      <td>D1</td>\n",
       "      <td>2</td>\n",
       "    </tr>\n",
       "    <tr>\n",
       "      <th>3</th>\n",
       "      <td>0.1</td>\n",
       "      <td>D3</td>\n",
       "      <td>3</td>\n",
       "    </tr>\n",
       "  </tbody>\n",
       "</table>\n",
       "</div>"
      ],
      "text/plain": [
       "     y design participant\n",
       "0  0.5     D1           0\n",
       "1  0.6     D2           1\n",
       "2  0.4     D1           2\n",
       "3  0.1     D3           3"
      ]
     },
     "execution_count": 2,
     "metadata": {},
     "output_type": "execute_result"
    }
   ],
   "source": [
    "df = pd.DataFrame(dict(\n",
    "    y = np.array([0.5, 0.6, 0.4,0.1]),\n",
    "    design = pd.Categorical(np.array(['D1','D2','D1','D3'])),\n",
    "    participant = pd.Categorical(np.array([0,1,2,3]))\n",
    "))\n",
    "df.head()"
   ]
  },
  {
   "cell_type": "markdown",
   "metadata": {},
   "source": [
    "The primary brmp interface requires a user to provide a formula and a data frame when defining a model. However, for OED, we want to use the model *before* we ever get any data (i.e. sample from the prior to pick the first design), so we need a way to describe the data we'll collect it, in order to complete the model specification.\n",
    "\n",
    "brmp already makes use of an abstract description of the data internally. Usually this is derived from the data frame given by the user, but we can get hold of it manually:"
   ]
  },
  {
   "cell_type": "code",
   "execution_count": 3,
   "metadata": {},
   "outputs": [
    {
     "data": {
      "text/plain": [
       "[RealValued(name='y'),\n",
       " Categorical(name='design', levels=['D1', 'D2', 'D3']),\n",
       " Categorical(name='participant', levels=[0, 1, 2, 3])]"
      ]
     },
     "execution_count": 3,
     "metadata": {},
     "output_type": "execute_result"
    }
   ],
   "source": [
    "meta = metadata_from_df(df)\n",
    "meta.columns"
   ]
  },
  {
   "cell_type": "markdown",
   "metadata": {},
   "source": [
    "So perhaps we need to ask a user to supply this, or something like it?\n",
    "\n",
    "This would entail specifying e.g. the number of participants ahead of time. (In this case the number of participants corresponse to the number of levels of the participant column.) This seems OK, but I wonder if it's possible/desirable to relax this.\n",
    "\n",
    "If the user also provides a formula (and response distribution) to describe the structure of the model, then we have enough information to generate a model. For example:"
   ]
  },
  {
   "cell_type": "code",
   "execution_count": 4,
   "metadata": {},
   "outputs": [
    {
     "name": "stdout",
     "output_type": "stream",
     "text": [
      "========================================\n",
      "Population\n",
      "----------------------------------------\n",
      "Coef Priors:\n",
      "design[D1]      | Cauchy(loc=0.0, scale=1.0)\n",
      "design[D2]      | Cauchy(loc=0.0, scale=1.0)\n",
      "design[D3]      | Cauchy(loc=0.0, scale=1.0)\n",
      "========================================\n",
      "Group 0\n",
      "----------------------------------------\n",
      "Factors: participant\n",
      "Num Levels: 4\n",
      "Corr. Prior: None\n",
      "S.D. Priors:\n",
      "design[D1]      | HalfCauchy(scale=3.0)\n",
      "design[D2]      | HalfCauchy(scale=3.0)\n",
      "design[D3]      | HalfCauchy(scale=3.0)\n",
      "========================================\n",
      "Response\n",
      "----------------------------------------\n",
      "Family: Normal()\n",
      "Link:\n",
      "  Parameter: mu\n",
      "  Function:  identity\n",
      "Priors:\n",
      "sigma           | HalfCauchy(scale=3.0)\n",
      "========================================\n"
     ]
    }
   ],
   "source": [
    "formula = parse('y ~ design + (design || participant)')\n",
    "model = makedesc(formula, meta, Normal, []) # Normal would be zero_one_inflated_beta or similar\n",
    "print(model_repr(model))"
   ]
  },
  {
   "cell_type": "markdown",
   "metadata": {},
   "source": [
    "For reference, here's how brmp would code the design matrices for this model:"
   ]
  },
  {
   "cell_type": "code",
   "execution_count": 5,
   "metadata": {},
   "outputs": [
    {
     "name": "stdout",
     "output_type": "stream",
     "text": [
      "{'J_0': array([0, 1, 2, 3]),\n",
      " 'X': array([[1., 0., 0.],\n",
      "       [0., 1., 0.],\n",
      "       [1., 0., 0.],\n",
      "       [0., 0., 1.]]),\n",
      " 'Z_0': array([[1., 0., 0.],\n",
      "       [0., 1., 0.],\n",
      "       [1., 0., 0.],\n",
      "       [0., 0., 1.]]),\n",
      " 'y_obs': array([0.5, 0.6, 0.4, 0.1])}\n"
     ]
    }
   ],
   "source": [
    "pp(makedata(formula, df))"
   ]
  },
  {
   "cell_type": "markdown",
   "metadata": {},
   "source": [
    "## Optimizing over designs\n",
    "\n",
    "Assuming we ask users to supply `formula` & `meta`, does that give us everything we need to determine the space of possible designs? We know from the formula that `y` is the response, so I think the answer is \"yes\" assuming that:\n",
    "\n",
    "* Everything in the data frame other than the response corresponds to part of the design space.\n",
    "* Every possible row of the data frame that's consistent with the metadata corresponds to a valid design.\n",
    "\n",
    "If these don't hold, we need to collect more information.\n",
    "\n",
    "Are there cases where we will want to optimize of only part of the design space? e.g. We might want the system to pick the next question to ask, but we want to manually specify the participant?\n",
    "\n",
    "## Generating the guide\n",
    "\n",
    "The guide will be a big ANN that takes $y$ and $d$ as input and has a (perhaps multi-way) classifier on top. It seems like we can figure out the sizes of the inputs and outputs from `formula` and `meta`. The user just needs to say something about what happens inbetween."
   ]
  },
  {
   "cell_type": "markdown",
   "metadata": {},
   "source": [
    "## TODO\n",
    "\n",
    "Some things we (might) need but don't yet have:\n",
    "\n",
    "* The ability to sample from the prior.\n",
    "* A response distribution suitable for responses from a slider. e.g. zero/one inflated beta? (Assuming we want to repeat the friendliness experiment or similar.)\n",
    "* Support for [distributional models](https://cran.r-project.org/web/packages/brms/vignettes/brms_distreg.html). (I think this is how one would handle the $k_i$ parameters in the turk model. This is not urgent.)\n",
    "* A way for users to specify `meta`.\n",
    "* Interface tweaks to support defining models (and subsequently performing inference) this way."
   ]
  },
  {
   "cell_type": "code",
   "execution_count": null,
   "metadata": {},
   "outputs": [],
   "source": []
  },
  {
   "cell_type": "code",
   "execution_count": null,
   "metadata": {},
   "outputs": [],
   "source": []
  }
 ],
 "metadata": {
  "kernelspec": {
   "display_name": "Python 3",
   "language": "python",
   "name": "python3"
  },
  "language_info": {
   "codemirror_mode": {
    "name": "ipython",
    "version": 3
   },
   "file_extension": ".py",
   "mimetype": "text/x-python",
   "name": "python",
   "nbconvert_exporter": "python",
   "pygments_lexer": "ipython3",
   "version": "3.7.3"
  }
 },
 "nbformat": 4,
 "nbformat_minor": 2
}
