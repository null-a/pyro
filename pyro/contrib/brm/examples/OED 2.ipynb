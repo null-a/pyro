{
 "cells": [
  {
   "cell_type": "code",
   "execution_count": 1,
   "metadata": {},
   "outputs": [
    {
     "name": "stdout",
     "output_type": "stream",
     "text": [
      "Populating the interactive namespace from numpy and matplotlib\n"
     ]
    }
   ],
   "source": [
    "%pylab inline\n",
    "import pandas as pd\n",
    "from pandas.api.types import is_categorical_dtype\n",
    "\n",
    "from pyro.contrib.brm import defm, makedesc\n",
    "from pyro.contrib.brm.design import metadata_from_df, metadata_from_cols, RealValued, Categorical, makedata\n",
    "from pyro.contrib.brm.family import Normal, HalfCauchy\n",
    "from pyro.contrib.brm.formula import parse\n",
    "from pyro.contrib.brm.model import model_repr\n",
    "from pyro.contrib.brm.fit import fitted, Fit\n",
    "from pyro.contrib.brm.priors import Prior\n",
    "from pyro.contrib.brm.pyro_backend import backend as pyro_backend\n",
    "\n",
    "from oed import *"
   ]
  },
  {
   "cell_type": "markdown",
   "metadata": {},
   "source": [
    "## Defining the model\n",
    "\n",
    "Here we define the model and design space using existing brmp functionality. (We could of course provide a nicer interface.)"
   ]
  },
  {
   "cell_type": "code",
   "execution_count": 2,
   "metadata": {},
   "outputs": [],
   "source": [
    "formula = parse('y ~ 1 + x1 + x2')\n",
    "\n",
    "metadata = metadata_from_cols([\n",
    "    RealValued('y'),\n",
    "    Categorical('x1', ['a','b']),\n",
    "    Categorical('x2', ['c','d']),\n",
    "])\n",
    "\n",
    "response = Normal\n",
    "priors = [Prior(('b',), Normal(0.,1.)), Prior(('resp','sigma'), HalfCauchy(.1))]\n",
    "\n",
    "# Boiler plate.\n",
    "model_desc = makedesc(formula, metadata, response, priors)"
   ]
  },
  {
   "cell_type": "markdown",
   "metadata": {},
   "source": [
    "The design space for this model is:"
   ]
  },
  {
   "cell_type": "code",
   "execution_count": 3,
   "metadata": {},
   "outputs": [
    {
     "data": {
      "text/plain": [
       "[('a', 'c'), ('a', 'd'), ('b', 'c'), ('b', 'd')]"
      ]
     },
     "execution_count": 3,
     "metadata": {},
     "output_type": "execute_result"
    }
   ],
   "source": [
    "metadata.levels(design_space_cols(formula, metadata))"
   ]
  },
  {
   "cell_type": "markdown",
   "metadata": {},
   "source": [
    "It's not currently very easy to start from the prior, so instead we start from a single dummy result/observation. (In this case corresponsing to running `('a','c')` and obtaining result `0.0`."
   ]
  },
  {
   "cell_type": "code",
   "execution_count": 4,
   "metadata": {},
   "outputs": [
    {
     "data": {
      "text/html": [
       "<div>\n",
       "<style scoped>\n",
       "    .dataframe tbody tr th:only-of-type {\n",
       "        vertical-align: middle;\n",
       "    }\n",
       "\n",
       "    .dataframe tbody tr th {\n",
       "        vertical-align: top;\n",
       "    }\n",
       "\n",
       "    .dataframe thead th {\n",
       "        text-align: right;\n",
       "    }\n",
       "</style>\n",
       "<table border=\"1\" class=\"dataframe\">\n",
       "  <thead>\n",
       "    <tr style=\"text-align: right;\">\n",
       "      <th></th>\n",
       "      <th>y</th>\n",
       "      <th>x1</th>\n",
       "      <th>x2</th>\n",
       "    </tr>\n",
       "  </thead>\n",
       "  <tbody>\n",
       "    <tr>\n",
       "      <th>0</th>\n",
       "      <td>0.0</td>\n",
       "      <td>a</td>\n",
       "      <td>c</td>\n",
       "    </tr>\n",
       "  </tbody>\n",
       "</table>\n",
       "</div>"
      ],
      "text/plain": [
       "     y x1 x2\n",
       "0  0.0  a  c"
      ]
     },
     "execution_count": 4,
     "metadata": {},
     "output_type": "execute_result"
    }
   ],
   "source": [
    "data_so_far = pd.DataFrame(dict(\n",
    "    y=[0.],\n",
    "    x1=pd.Categorical(['a']),\n",
    "    x2=pd.Categorical(['c']),\n",
    "))\n",
    "data_so_far"
   ]
  },
  {
   "cell_type": "markdown",
   "metadata": {},
   "source": [
    "## Computing the next design\n",
    "\n",
    "Here we estimate the information gain for all designs. This current using a separate ANN for each design."
   ]
  },
  {
   "cell_type": "code",
   "execution_count": 5,
   "metadata": {
    "scrolled": true
   },
   "outputs": [
    {
     "name": "stderr",
     "output_type": "stream",
     "text": [
      "warmup:   8%|▊         | 6/75 [00:00<00:01, 53.60it/s, step size=2.83e-01, acc. prob=0.644]"
     ]
    },
    {
     "name": "stdout",
     "output_type": "stream",
     "text": [
      "WARNING: Design matrix may not be full rank.\n"
     ]
    },
    {
     "name": "stderr",
     "output_type": "stream",
     "text": [
      "sample: 100%|██████████| 75/75 [00:01<00:00, 59.26it/s, step size=3.39e-01, acc. prob=0.235]\n"
     ]
    },
    {
     "name": "stdout",
     "output_type": "stream",
     "text": [
      "100 | 2.3399999141693115\n",
      "200 | 2.3399999141693115\n",
      "300 | 2.3399999141693115\n",
      "400 | 2.3399999141693115\n",
      "500 | 2.3399999141693115\n",
      "600 | 2.3399999141693115\n",
      "700 | 2.3399999141693115\n",
      "800 | 2.3399999141693115\n",
      "900 | 2.3399999141693115\n",
      "1000 | 2.3399999141693115\n",
      "eig: 2.3399999141693115\n",
      "all zero would yield: 1.340000033378601\n",
      "====================\n",
      "100 | 2.834780216217041\n",
      "200 | 2.83952260017395\n",
      "300 | 2.8398401737213135\n",
      "400 | 2.8399181365966797\n",
      "500 | 2.8399498462677\n",
      "600 | 2.8399658203125\n",
      "700 | 2.839975595474243\n",
      "800 | 2.8399817943573\n",
      "900 | 2.8399853706359863\n",
      "1000 | 2.8399884700775146\n",
      "eig: 2.8399884700775146\n",
      "all zero would yield: 1.340000033378601\n",
      "====================\n",
      "100 | 2.8183586597442627\n",
      "200 | 2.8195056915283203\n",
      "300 | 2.819766044616699\n",
      "400 | 2.8598833084106445\n",
      "500 | 2.8599228858947754\n",
      "600 | 2.8599436283111572\n",
      "700 | 2.859956979751587\n",
      "800 | 2.8599658012390137\n",
      "900 | 2.8599724769592285\n",
      "1000 | 2.8599774837493896\n",
      "eig: 2.8599774837493896\n",
      "all zero would yield: 1.340000033378601\n",
      "====================\n",
      "100 | 2.3399999141693115\n",
      "200 | 2.3399999141693115\n",
      "300 | 2.3399999141693115\n",
      "400 | 2.3399999141693115\n",
      "500 | 2.3399999141693115\n",
      "600 | 2.3399999141693115\n",
      "700 | 2.3399999141693115\n",
      "800 | 2.3399999141693115\n",
      "900 | 2.3399999141693115\n",
      "1000 | 2.3399999141693115\n",
      "eig: 2.3399999141693115\n",
      "all zero would yield: 1.340000033378601\n",
      "====================\n"
     ]
    },
    {
     "data": {
      "text/plain": [
       "[2.3399999141693115,\n",
       " 2.8399884700775146,\n",
       " 2.8599774837493896,\n",
       " 2.3399999141693115]"
      ]
     },
     "execution_count": 5,
     "metadata": {},
     "output_type": "execute_result"
    }
   ],
   "source": [
    "design, dstar, eigs, plot_data = next_trial(formula, model_desc, data_so_far, metadata)\n",
    "eigs"
   ]
  },
  {
   "cell_type": "markdown",
   "metadata": {},
   "source": [
    "For each design/coefficient pair, this plot shows the target ($\\theta \\in [-0.5,0.5]$) and the function learned by the corresponing ANN. (It took a bit of fiddling with priors and `eps` before there was anything interesting for the ANN to learn.)"
   ]
  },
  {
   "cell_type": "code",
   "execution_count": 6,
   "metadata": {},
   "outputs": [
    {
     "data": {
      "image/png": "[encoded data removed]",
      "text/plain": [
       "<Figure size 864x864 with 12 Axes>"
      ]
     },
     "metadata": {
      "needs_background": "light"
     },
     "output_type": "display_data"
    }
   ],
   "source": [
    "make_training_data_plot(plot_data)"
   ]
  },
  {
   "cell_type": "markdown",
   "metadata": {},
   "source": [
    "We could now run the experiment, extend `data_so_far`, and get the next trial like so:"
   ]
  },
  {
   "cell_type": "code",
   "execution_count": 7,
   "metadata": {},
   "outputs": [
    {
     "data": {
      "text/html": [
       "<div>\n",
       "<style scoped>\n",
       "    .dataframe tbody tr th:only-of-type {\n",
       "        vertical-align: middle;\n",
       "    }\n",
       "\n",
       "    .dataframe tbody tr th {\n",
       "        vertical-align: top;\n",
       "    }\n",
       "\n",
       "    .dataframe thead th {\n",
       "        text-align: right;\n",
       "    }\n",
       "</style>\n",
       "<table border=\"1\" class=\"dataframe\">\n",
       "  <thead>\n",
       "    <tr style=\"text-align: right;\">\n",
       "      <th></th>\n",
       "      <th>y</th>\n",
       "      <th>x1</th>\n",
       "      <th>x2</th>\n",
       "    </tr>\n",
       "  </thead>\n",
       "  <tbody>\n",
       "    <tr>\n",
       "      <th>0</th>\n",
       "      <td>0.0</td>\n",
       "      <td>a</td>\n",
       "      <td>c</td>\n",
       "    </tr>\n",
       "    <tr>\n",
       "      <th>0</th>\n",
       "      <td>2.0</td>\n",
       "      <td>b</td>\n",
       "      <td>c</td>\n",
       "    </tr>\n",
       "  </tbody>\n",
       "</table>\n",
       "</div>"
      ],
      "text/plain": [
       "     y x1 x2\n",
       "0  0.0  a  c\n",
       "0  2.0  b  c"
      ]
     },
     "execution_count": 7,
     "metadata": {},
     "output_type": "execute_result"
    }
   ],
   "source": [
    "data_so_far2 = extend_df_with_result(formula, metadata, data_so_far, design, result=2.0)\n",
    "data_so_far2"
   ]
  },
  {
   "cell_type": "code",
   "execution_count": 8,
   "metadata": {},
   "outputs": [],
   "source": [
    "#design, dstar, eigs, plot_data = next_trial(formula, model_desc, data_so_far2, meta)"
   ]
  }
 ],
 "metadata": {
  "kernelspec": {
   "display_name": "Python 3",
   "language": "python",
   "name": "python3"
  },
  "language_info": {
   "codemirror_mode": {
    "name": "ipython",
    "version": 3
   },
   "file_extension": ".py",
   "mimetype": "text/x-python",
   "name": "python",
   "nbconvert_exporter": "python",
   "pygments_lexer": "ipython3",
   "version": "3.7.3"
  }
 },
 "nbformat": 4,
 "nbformat_minor": 2
}
