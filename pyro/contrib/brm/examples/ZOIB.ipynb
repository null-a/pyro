{
 "cells": [
  {
   "cell_type": "code",
   "execution_count": 1,
   "metadata": {},
   "outputs": [
    {
     "name": "stdout",
     "output_type": "stream",
     "text": [
      "Populating the interactive namespace from numpy and matplotlib\n"
     ]
    }
   ],
   "source": [
    "%pylab inline\n",
    "import torch\n",
    "import pandas as pd\n",
    "from pyro.contrib.brm import defm\n",
    "from pyro.contrib.brm.priors import Prior\n",
    "from pyro.contrib.brm.family import ZeroOneInflatedBeta, HalfCauchy, Beta, Normal\n",
    "from pyro.contrib.brm.fit import marginals, get_param, fitted\n",
    "\n",
    "from pyro.distributions import ZeroOneInflatedBeta as ZOIB"
   ]
  },
  {
   "cell_type": "code",
   "execution_count": 2,
   "metadata": {},
   "outputs": [
    {
     "data": {
      "text/plain": [
       "[<matplotlib.lines.Line2D at 0x11ee87b38>]"
      ]
     },
     "execution_count": 2,
     "metadata": {},
     "output_type": "execute_result"
    },
    {
     "data": {
      "image/png": "[encoded data removed]",
      "text/plain": [
       "<Figure size 432x288 with 1 Axes>"
      ]
     },
     "metadata": {
      "needs_background": "light"
     },
     "output_type": "display_data"
    }
   ],
   "source": [
    "# Generate some data from a Zero One Inflated Beta\n",
    "zoib = ZOIB(0.3, 16, 0.4, 0.8)\n",
    "ys = zoib.sample((100,)).reshape(-1)\n",
    "hist(ys, bins=30, density=True);\n",
    "xs = torch.linspace(0, 1, 50)\n",
    "plot(xs.numpy(), zoib.log_prob(xs).exp().numpy())"
   ]
  },
  {
   "cell_type": "code",
   "execution_count": 3,
   "metadata": {},
   "outputs": [
    {
     "data": {
      "text/html": [
       "<div>\n",
       "<style scoped>\n",
       "    .dataframe tbody tr th:only-of-type {\n",
       "        vertical-align: middle;\n",
       "    }\n",
       "\n",
       "    .dataframe tbody tr th {\n",
       "        vertical-align: top;\n",
       "    }\n",
       "\n",
       "    .dataframe thead th {\n",
       "        text-align: right;\n",
       "    }\n",
       "</style>\n",
       "<table border=\"1\" class=\"dataframe\">\n",
       "  <thead>\n",
       "    <tr style=\"text-align: right;\">\n",
       "      <th></th>\n",
       "      <th>y</th>\n",
       "    </tr>\n",
       "  </thead>\n",
       "  <tbody>\n",
       "    <tr>\n",
       "      <th>0</th>\n",
       "      <td>0.223409</td>\n",
       "    </tr>\n",
       "    <tr>\n",
       "      <th>1</th>\n",
       "      <td>0.282721</td>\n",
       "    </tr>\n",
       "    <tr>\n",
       "      <th>2</th>\n",
       "      <td>0.549247</td>\n",
       "    </tr>\n",
       "    <tr>\n",
       "      <th>3</th>\n",
       "      <td>0.228733</td>\n",
       "    </tr>\n",
       "    <tr>\n",
       "      <th>4</th>\n",
       "      <td>0.282272</td>\n",
       "    </tr>\n",
       "  </tbody>\n",
       "</table>\n",
       "</div>"
      ],
      "text/plain": [
       "          y\n",
       "0  0.223409\n",
       "1  0.282721\n",
       "2  0.549247\n",
       "3  0.228733\n",
       "4  0.282272"
      ]
     },
     "execution_count": 3,
     "metadata": {},
     "output_type": "execute_result"
    }
   ],
   "source": [
    "df = pd.DataFrame(dict(y=ys))\n",
    "df.head()"
   ]
  },
  {
   "cell_type": "code",
   "execution_count": 4,
   "metadata": {},
   "outputs": [
    {
     "data": {
      "text/plain": [
       "========================================\n",
       "Population\n",
       "----------------------------------------\n",
       "Coef Priors:\n",
       "intercept       | Cauchy(loc=0.0, scale=1.0)\n",
       "========================================\n",
       "Response\n",
       "----------------------------------------\n",
       "Family: ZeroOneInflatedBeta()\n",
       "Link:\n",
       "  Parameter: loc\n",
       "  Function:  logit\n",
       "Priors:\n",
       "prec            | HalfCauchy(scale=3.0)\n",
       "alpha           | Beta(concentration1=1.0, concentration0=1.0)\n",
       "gamma           | Beta(concentration1=1.0, concentration0=1.0)\n",
       "========================================"
      ]
     },
     "execution_count": 4,
     "metadata": {},
     "output_type": "execute_result"
    }
   ],
   "source": [
    "model = defm('y ~ 1', df, family=ZeroOneInflatedBeta)\n",
    "model"
   ]
  },
  {
   "cell_type": "code",
   "execution_count": 5,
   "metadata": {},
   "outputs": [
    {
     "name": "stderr",
     "output_type": "stream",
     "text": [
      "sample: 100%|██████████| 750/750 [00:16<00:00, 51.28it/s, step size=6.87e-01, acc. prob=0.918]\n"
     ]
    },
    {
     "data": {
      "text/plain": [
       "              mean    sd  2.5%    25%    50%    75%  97.5%\n",
       "b_intercept  -0.83  0.08 -0.98  -0.88  -0.83  -0.77  -0.65\n",
       "       prec  12.94  2.67  8.40  11.09  12.79  14.48  18.74\n",
       "      alpha   0.44  0.05  0.35   0.40   0.43   0.47   0.53\n",
       "      gamma   0.70  0.07  0.55   0.65   0.70   0.74   0.83"
      ]
     },
     "execution_count": 5,
     "metadata": {},
     "output_type": "execute_result"
    }
   ],
   "source": [
    "fit = model.fit(iter=500)\n",
    "marginals(fit)"
   ]
  },
  {
   "cell_type": "code",
   "execution_count": 6,
   "metadata": {},
   "outputs": [
    {
     "data": {
      "text/plain": [
       "0.304879"
      ]
     },
     "execution_count": 6,
     "metadata": {},
     "output_type": "execute_result"
    }
   ],
   "source": [
    "# This is expected to match `loc` in this model.\n",
    "fitted(fit, what='response').mean()"
   ]
  },
  {
   "cell_type": "code",
   "execution_count": 7,
   "metadata": {},
   "outputs": [
    {
     "data": {
      "text/plain": [
       "ZeroOneInflatedBeta(loc: 0.30000001192092896, prec: 16.0, alpha: 0.4000000059604645, gamma: 0.800000011920929)"
      ]
     },
     "execution_count": 7,
     "metadata": {},
     "output_type": "execute_result"
    }
   ],
   "source": [
    "# Compare with parameters of data generating distribution\n",
    "zoib"
   ]
  },
  {
   "cell_type": "code",
   "execution_count": null,
   "metadata": {},
   "outputs": [],
   "source": []
  },
  {
   "cell_type": "code",
   "execution_count": null,
   "metadata": {},
   "outputs": [],
   "source": []
  },
  {
   "cell_type": "code",
   "execution_count": null,
   "metadata": {},
   "outputs": [],
   "source": []
  },
  {
   "cell_type": "code",
   "execution_count": null,
   "metadata": {},
   "outputs": [],
   "source": []
  },
  {
   "cell_type": "code",
   "execution_count": null,
   "metadata": {},
   "outputs": [],
   "source": []
  }
 ],
 "metadata": {
  "kernelspec": {
   "display_name": "Python 3",
   "language": "python",
   "name": "python3"
  },
  "language_info": {
   "codemirror_mode": {
    "name": "ipython",
    "version": 3
   },
   "file_extension": ".py",
   "mimetype": "text/x-python",
   "name": "python",
   "nbconvert_exporter": "python",
   "pygments_lexer": "ipython3",
   "version": "3.7.3"
  }
 },
 "nbformat": 4,
 "nbformat_minor": 2
}
