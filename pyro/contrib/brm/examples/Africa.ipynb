{
 "cells": [
  {
   "cell_type": "code",
   "execution_count": 13,
   "metadata": {},
   "outputs": [
    {
     "name": "stdout",
     "output_type": "stream",
     "text": [
      "Populating the interactive namespace from numpy and matplotlib\n"
     ]
    },
    {
     "name": "stderr",
     "output_type": "stream",
     "text": [
      "/Users/paul/Code/repos/pyro/venv/lib/python3.7/site-packages/IPython/core/magics/pylab.py:160: UserWarning: pylab import has clobbered these variables: ['ones', 'zeros']\n",
      "`%matplotlib` prevents importing * from pylab and numpy\n",
      "  \"\\n`%matplotlib` prevents importing * from pylab and numpy\"\n"
     ]
    }
   ],
   "source": [
    "%pylab inline\n",
    "#import torch\n",
    "import pandas as pd\n",
    "#import pyro\n",
    "#import pyro.distributions as dist\n",
    "#import pyro.poutine as poutine\n",
    "#from pyro.optim import Adam\n",
    "#from pyro.contrib.autoguide import AutoIAFNormal, AutoDiagonalNormal, AutoMultivariateNormal\n",
    "from pyro.contrib.brm import defm, makedata\n",
    "from pyro.contrib.brm.fit import marginals, fitted, summary, get_scalar_param\n",
    "from pyro.contrib.brm.model import parameter_names\n",
    "from pyro.contrib.brm.pyro_backend import backend as pyro_backend\n",
    "#from pyro.contrib.brm.design import makedata, predictors, RealValued, Categorical, Integral, dummy_df, make_metadata_lookup\n",
    "from pyro.contrib.brm.formula import parse\n",
    "#from pyro.contrib.brm.numpyro_backend import backend as numpyro\n",
    "from pyro.contrib.brm.backend import data_from_numpy"
   ]
  },
  {
   "cell_type": "markdown",
   "metadata": {},
   "source": [
    "## Introduction\n",
    "\n",
    "This notebook demonstrates the use of interactions in model specifications by recreating some of the models, inferences and plots found in the following:\n",
    "\n",
    "* https://bookdown.org/content/1850/interactions.html\n",
    "* http://pyro.ai/examples/bayesian_regression.html"
   ]
  },
  {
   "cell_type": "markdown",
   "metadata": {},
   "source": [
    "## Data"
   ]
  },
  {
   "cell_type": "code",
   "execution_count": 2,
   "metadata": {},
   "outputs": [],
   "source": [
    "df = pd.read_csv('rugged_data.csv', encoding=\"ISO-8859-1\")\n",
    "df = df[[\"cont_africa\", \"rugged\", \"rgdppc_2000\"]]\n",
    "df = df[np.isfinite(df.rgdppc_2000)]\n",
    "df['cont_africa'] = pd.Categorical(df['cont_africa'])\n",
    "df[\"log_gdp\"] = np.log(df[\"rgdppc_2000\"])\n",
    "del df['rgdppc_2000']\n",
    "df0 = df[df['cont_africa'] == 0]\n",
    "df1 = df[df['cont_africa'] == 1]"
   ]
  },
  {
   "cell_type": "code",
   "execution_count": 3,
   "metadata": {},
   "outputs": [
    {
     "data": {
      "text/html": [
       "<div>\n",
       "<style scoped>\n",
       "    .dataframe tbody tr th:only-of-type {\n",
       "        vertical-align: middle;\n",
       "    }\n",
       "\n",
       "    .dataframe tbody tr th {\n",
       "        vertical-align: top;\n",
       "    }\n",
       "\n",
       "    .dataframe thead th {\n",
       "        text-align: right;\n",
       "    }\n",
       "</style>\n",
       "<table border=\"1\" class=\"dataframe\">\n",
       "  <thead>\n",
       "    <tr style=\"text-align: right;\">\n",
       "      <th></th>\n",
       "      <th>cont_africa</th>\n",
       "      <th>rugged</th>\n",
       "      <th>log_gdp</th>\n",
       "    </tr>\n",
       "  </thead>\n",
       "  <tbody>\n",
       "    <tr>\n",
       "      <th>2</th>\n",
       "      <td>1</td>\n",
       "      <td>0.858</td>\n",
       "      <td>7.492609</td>\n",
       "    </tr>\n",
       "    <tr>\n",
       "      <th>4</th>\n",
       "      <td>0</td>\n",
       "      <td>3.427</td>\n",
       "      <td>8.216929</td>\n",
       "    </tr>\n",
       "    <tr>\n",
       "      <th>7</th>\n",
       "      <td>0</td>\n",
       "      <td>0.769</td>\n",
       "      <td>9.933263</td>\n",
       "    </tr>\n",
       "    <tr>\n",
       "      <th>8</th>\n",
       "      <td>0</td>\n",
       "      <td>0.775</td>\n",
       "      <td>9.407032</td>\n",
       "    </tr>\n",
       "    <tr>\n",
       "      <th>9</th>\n",
       "      <td>0</td>\n",
       "      <td>2.688</td>\n",
       "      <td>7.792343</td>\n",
       "    </tr>\n",
       "  </tbody>\n",
       "</table>\n",
       "</div>"
      ],
      "text/plain": [
       "  cont_africa  rugged   log_gdp\n",
       "2           1   0.858  7.492609\n",
       "4           0   3.427  8.216929\n",
       "7           0   0.769  9.933263\n",
       "8           0   0.775  9.407032\n",
       "9           0   2.688  7.792343"
      ]
     },
     "execution_count": 3,
     "metadata": {},
     "output_type": "execute_result"
    }
   ],
   "source": [
    "df.head()"
   ]
  },
  {
   "cell_type": "markdown",
   "metadata": {},
   "source": [
    "## Model"
   ]
  },
  {
   "cell_type": "code",
   "execution_count": 4,
   "metadata": {},
   "outputs": [
    {
     "data": {
      "text/plain": [
       "========================================\n",
       "Population\n",
       "----------------------------------------\n",
       "Coef Priors:\n",
       "intercept       | Cauchy(loc=0.0, scale=1.0)\n",
       "cont_africa[1]  | Cauchy(loc=0.0, scale=1.0)\n",
       "rugged          | Cauchy(loc=0.0, scale=1.0)\n",
       "rugged:cont_africa[1] | Cauchy(loc=0.0, scale=1.0)\n",
       "========================================\n",
       "Response\n",
       "----------------------------------------\n",
       "Family: Normal()\n",
       "Link:\n",
       "  Parameter: mu\n",
       "  Function:  identity\n",
       "Priors:\n",
       "sigma           | HalfCauchy(scale=3.0)\n",
       "========================================"
      ]
     },
     "execution_count": 4,
     "metadata": {},
     "output_type": "execute_result"
    }
   ],
   "source": [
    "# eqv. to `1 + rugged*cont_africa` (the * operator is not yet supported)\n",
    "model = defm('log_gdp ~ 1 + rugged + cont_africa + rugged:cont_africa', df)\n",
    "model"
   ]
  },
  {
   "cell_type": "markdown",
   "metadata": {},
   "source": [
    "Here's the design matrix generated by the system for this model/data pair. The columns correspond to the population coefficients mentioned in the model description shown above."
   ]
  },
  {
   "cell_type": "code",
   "execution_count": 5,
   "metadata": {},
   "outputs": [
    {
     "data": {
      "text/plain": [
       "array([[1.   , 1.   , 0.858, 0.858],\n",
       "       [1.   , 0.   , 3.427, 0.   ],\n",
       "       [1.   , 0.   , 0.769, 0.   ],\n",
       "       [1.   , 0.   , 0.775, 0.   ],\n",
       "       [1.   , 0.   , 2.688, 0.   ]])"
      ]
     },
     "execution_count": 5,
     "metadata": {},
     "output_type": "execute_result"
    }
   ],
   "source": [
    "model.data['X'][0:5]"
   ]
  },
  {
   "cell_type": "markdown",
   "metadata": {},
   "source": [
    "## Inference"
   ]
  },
  {
   "cell_type": "code",
   "execution_count": 6,
   "metadata": {},
   "outputs": [
    {
     "name": "stderr",
     "output_type": "stream",
     "text": [
      "sample: 100%|██████████| 1500/1500 [00:30<00:00, 49.55it/s, step size=3.43e-01, acc. prob=0.909]\n"
     ]
    }
   ],
   "source": [
    "fit = model.fit(iter=1000)#, backend=numpyro)"
   ]
  },
  {
   "cell_type": "code",
   "execution_count": 7,
   "metadata": {},
   "outputs": [
    {
     "data": {
      "text/plain": [
       "                         mean    sd  2.5%   25%   50%   75% 97.5%\n",
       "            b_intercept  9.18  0.14  8.93  9.08  9.17  9.27  9.45\n",
       "       b_cont_africa[1] -1.86  0.22 -2.28 -2.02 -1.87 -1.72 -1.40\n",
       "               b_rugged -0.18  0.08 -0.32 -0.24 -0.18 -0.13 -0.03\n",
       "b_rugged:cont_africa[1]  0.35  0.13  0.09  0.26  0.36  0.44  0.60\n",
       "                  sigma  0.95  0.05  0.86  0.91  0.95  0.99  1.06"
      ]
     },
     "execution_count": 7,
     "metadata": {},
     "output_type": "execute_result"
    }
   ],
   "source": [
    "marginals(fit)"
   ]
  },
  {
   "cell_type": "markdown",
   "metadata": {},
   "source": [
    "## Model Evaluation"
   ]
  },
  {
   "cell_type": "code",
   "execution_count": 8,
   "metadata": {},
   "outputs": [
    {
     "data": {
      "text/html": [
       "<div>\n",
       "<style scoped>\n",
       "    .dataframe tbody tr th:only-of-type {\n",
       "        vertical-align: middle;\n",
       "    }\n",
       "\n",
       "    .dataframe tbody tr th {\n",
       "        vertical-align: top;\n",
       "    }\n",
       "\n",
       "    .dataframe thead th {\n",
       "        text-align: right;\n",
       "    }\n",
       "</style>\n",
       "<table border=\"1\" class=\"dataframe\">\n",
       "  <thead>\n",
       "    <tr style=\"text-align: right;\">\n",
       "      <th></th>\n",
       "      <th>rugged</th>\n",
       "      <th>cont_africa</th>\n",
       "    </tr>\n",
       "  </thead>\n",
       "  <tbody>\n",
       "    <tr>\n",
       "      <th>0</th>\n",
       "      <td>0.0</td>\n",
       "      <td>0</td>\n",
       "    </tr>\n",
       "    <tr>\n",
       "      <th>1</th>\n",
       "      <td>0.2</td>\n",
       "      <td>0</td>\n",
       "    </tr>\n",
       "    <tr>\n",
       "      <th>2</th>\n",
       "      <td>0.4</td>\n",
       "      <td>0</td>\n",
       "    </tr>\n",
       "    <tr>\n",
       "      <th>3</th>\n",
       "      <td>0.6</td>\n",
       "      <td>0</td>\n",
       "    </tr>\n",
       "    <tr>\n",
       "      <th>4</th>\n",
       "      <td>0.8</td>\n",
       "      <td>0</td>\n",
       "    </tr>\n",
       "  </tbody>\n",
       "</table>\n",
       "</div>"
      ],
      "text/plain": [
       "   rugged cont_africa\n",
       "0     0.0           0\n",
       "1     0.2           0\n",
       "2     0.4           0\n",
       "3     0.6           0\n",
       "4     0.8           0"
      ]
     },
     "execution_count": 8,
     "metadata": {},
     "output_type": "execute_result"
    }
   ],
   "source": [
    "# Make a new dataset on which to evaluate the model. This is comprised\n",
    "# of a series of equally spaced values for ruggedness running from 0 to 6.2 (inclusive).\n",
    "# This is repeated for both cont_africa=0 and cont_africa=1.\n",
    "rnge = np.arange(0., 6.3, 0.2)\n",
    "zeros = np.zeros(len(rnge), dtype=np.int64)\n",
    "ones = np.ones(len(rnge), dtype=np.int64)\n",
    "nd = pd.DataFrame(dict(\n",
    "    rugged=np.hstack((rnge, rnge)),\n",
    "    cont_africa=pd.Categorical(np.hstack((zeros, ones)))\n",
    "))\n",
    "nd.head()"
   ]
  },
  {
   "cell_type": "markdown",
   "metadata": {},
   "source": [
    "`summary(fitted(fit, data=...))` is analogous to `fitted(fit, newdata=..., summary=TRUE)` in brms."
   ]
  },
  {
   "cell_type": "code",
   "execution_count": 9,
   "metadata": {},
   "outputs": [],
   "source": [
    "smry = summary(fitted(fit, data=nd))\n",
    "#smry.array[0:10] # TODO: It would be good to be able to index this (directly, not via `array`) while retaining the __repr__"
   ]
  },
  {
   "cell_type": "code",
   "execution_count": 10,
   "metadata": {},
   "outputs": [
    {
     "data": {
      "image/png": "[encoded data removed]",
      "text/plain": [
       "<Figure size 432x288 with 1 Axes>"
      ]
     },
     "metadata": {
      "needs_background": "light"
     },
     "output_type": "display_data"
    },
    {
     "data": {
      "image/png": "[encoded data removed]",
      "text/plain": [
       "<Figure size 432x288 with 1 Axes>"
      ]
     },
     "metadata": {
      "needs_background": "light"
     },
     "output_type": "display_data"
    }
   ],
   "source": [
    "def plot_rugged_vs_log_gdp(fit, cont_africa):\n",
    "    assert cont_africa in [0, 1]\n",
    "    # Select either African/other rows from (new/)data and summary.\n",
    "    data = df[df.cont_africa == cont_africa]      # Original data\n",
    "    newdata = nd[nd.cont_africa == cont_africa]   # Data used for summary\n",
    "    s = smry.array[nd.cont_africa == cont_africa] # Summary\n",
    "    figure()\n",
    "    title('Africa' if cont_africa == 1 else 'Not Africa')\n",
    "    xlabel('ruggedness')\n",
    "    ylabel('log gdp')\n",
    "    grid()\n",
    "    mean =  s[:, 0] # mean\n",
    "    lower = s[:, 2] # 2.5%\n",
    "    upper = s[:, 6] # 97.5%\n",
    "    fill_between(newdata['rugged'], lower, upper, color='lightgray')\n",
    "    plot(newdata['rugged'], mean)\n",
    "    scatter(data['rugged'], data['log_gdp'], c='darkorange')\n",
    "\n",
    "plot_rugged_vs_log_gdp(fit, 0)\n",
    "plot_rugged_vs_log_gdp(fit, 1)"
   ]
  },
  {
   "cell_type": "markdown",
   "metadata": {},
   "source": [
    "### Slope"
   ]
  },
  {
   "cell_type": "markdown",
   "metadata": {},
   "source": [
    "For African countries (rows in which `cont_africa=1`) the slope is given by `rugged + rugged:cont_africa[1]`. For other countries the slope is simply `rugged`. Here we extract these values from the posterior samples using the `get_scalar_param` helper. (This acccepts as input those parameter names that appear in the output of `marginals(fit)` above.)"
   ]
  },
  {
   "cell_type": "code",
   "execution_count": 17,
   "metadata": {},
   "outputs": [],
   "source": [
    "rugged = get_scalar_param(fit, 'b_rugged')\n",
    "rugged_cont_africa = get_scalar_param(fit, 'b_rugged:cont_africa[1]')\n",
    "gamma_africa = rugged + rugged_cont_africa\n",
    "gamma_not_africa = rugged"
   ]
  },
  {
   "cell_type": "code",
   "execution_count": 18,
   "metadata": {},
   "outputs": [
    {
     "data": {
      "image/png": "[encoded data removed]",
      "text/plain": [
       "<Figure size 432x288 with 1 Axes>"
      ]
     },
     "metadata": {
      "needs_background": "light"
     },
     "output_type": "display_data"
    }
   ],
   "source": [
    "hist(gamma_africa, bins=25, alpha=0.4, density=True, label='Africa');\n",
    "hist(gamma_not_africa, bins=25, alpha=0.4, density=True, label='Not Africa');\n",
    "grid()\n",
    "legend();"
   ]
  },
  {
   "cell_type": "code",
   "execution_count": null,
   "metadata": {},
   "outputs": [],
   "source": []
  }
 ],
 "metadata": {
  "kernelspec": {
   "display_name": "Python 3",
   "language": "python",
   "name": "python3"
  },
  "language_info": {
   "codemirror_mode": {
    "name": "ipython",
    "version": 3
   },
   "file_extension": ".py",
   "mimetype": "text/x-python",
   "name": "python",
   "nbconvert_exporter": "python",
   "pygments_lexer": "ipython3",
   "version": "3.7.3"
  }
 },
 "nbformat": 4,
 "nbformat_minor": 2
}
